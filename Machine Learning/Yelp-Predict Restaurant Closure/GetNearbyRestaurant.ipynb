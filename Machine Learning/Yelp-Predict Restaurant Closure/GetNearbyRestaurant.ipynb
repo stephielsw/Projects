{
 "cells": [
  {
   "cell_type": "markdown",
   "metadata": {},
   "source": [
    "## Compute no. of restaurants within 1km from each of the listed restaurants\n",
    "\n",
    "The input file usa.csv is the output from YelpRestaurant.ipynb script.  This file contains the list of United States restaurants listed in Yelp dataset and their coordinates."
   ]
  },
  {
   "cell_type": "code",
   "execution_count": 102,
   "metadata": {},
   "outputs": [],
   "source": [
    "import pandas as pd\n",
    "import numpy as np\n",
    "import io\n",
    "import os\n",
    "import matplotlib.pyplot as plt\n",
    "import seaborn as sns\n",
    "from math import cos, asin, sqrt\n",
    "\n",
    "%matplotlib inline"
   ]
  },
  {
   "cell_type": "code",
   "execution_count": 103,
   "metadata": {},
   "outputs": [],
   "source": [
    "#usa.csv file contains a listing of restaurants extracted from Yelp for analysis\n",
    "\n",
    "path = r\"C:\\Course Material\\2018\\Machine Learning\\Project\"\n",
    "file_biz = \"usa.csv\""
   ]
  },
  {
   "cell_type": "code",
   "execution_count": 104,
   "metadata": {},
   "outputs": [
    {
     "data": {
      "text/html": [
       "<div>\n",
       "<style scoped>\n",
       "    .dataframe tbody tr th:only-of-type {\n",
       "        vertical-align: middle;\n",
       "    }\n",
       "\n",
       "    .dataframe tbody tr th {\n",
       "        vertical-align: top;\n",
       "    }\n",
       "\n",
       "    .dataframe thead th {\n",
       "        text-align: right;\n",
       "    }\n",
       "</style>\n",
       "<table border=\"1\" class=\"dataframe\">\n",
       "  <thead>\n",
       "    <tr style=\"text-align: right;\">\n",
       "      <th></th>\n",
       "      <th>state</th>\n",
       "      <th>business_id</th>\n",
       "      <th>name</th>\n",
       "      <th>postal_code</th>\n",
       "      <th>latitude</th>\n",
       "      <th>longitude</th>\n",
       "    </tr>\n",
       "  </thead>\n",
       "  <tbody>\n",
       "    <tr>\n",
       "      <th>0</th>\n",
       "      <td>NC</td>\n",
       "      <td>mLwM-h2YhXl2NCgdS84_Bw</td>\n",
       "      <td>South Florida Style Chicken &amp; Ribs</td>\n",
       "      <td>28215.0</td>\n",
       "      <td>35.236870</td>\n",
       "      <td>-80.741976</td>\n",
       "    </tr>\n",
       "    <tr>\n",
       "      <th>1</th>\n",
       "      <td>AZ</td>\n",
       "      <td>duHFBe87uNSXImQmvBh87Q</td>\n",
       "      <td>Blimpie</td>\n",
       "      <td>85016.0</td>\n",
       "      <td>33.505928</td>\n",
       "      <td>-112.038847</td>\n",
       "    </tr>\n",
       "    <tr>\n",
       "      <th>2</th>\n",
       "      <td>NC</td>\n",
       "      <td>SDMRxmcKPNt1AHPBKqO64Q</td>\n",
       "      <td>Applebee's</td>\n",
       "      <td>28105.0</td>\n",
       "      <td>35.135196</td>\n",
       "      <td>-80.714683</td>\n",
       "    </tr>\n",
       "  </tbody>\n",
       "</table>\n",
       "</div>"
      ],
      "text/plain": [
       "  state             business_id                                name  \\\n",
       "0    NC  mLwM-h2YhXl2NCgdS84_Bw  South Florida Style Chicken & Ribs   \n",
       "1    AZ  duHFBe87uNSXImQmvBh87Q                             Blimpie   \n",
       "2    NC  SDMRxmcKPNt1AHPBKqO64Q                          Applebee's   \n",
       "\n",
       "   postal_code   latitude   longitude  \n",
       "0      28215.0  35.236870  -80.741976  \n",
       "1      85016.0  33.505928 -112.038847  \n",
       "2      28105.0  35.135196  -80.714683  "
      ]
     },
     "execution_count": 104,
     "metadata": {},
     "output_type": "execute_result"
    }
   ],
   "source": [
    "df_base = pd.read_csv(os.path.join(path,file_biz))\n",
    "df_base.head(3)"
   ]
  },
  {
   "cell_type": "code",
   "execution_count": 105,
   "metadata": {},
   "outputs": [
    {
     "data": {
      "text/plain": [
       "30959"
      ]
     },
     "execution_count": 105,
     "metadata": {},
     "output_type": "execute_result"
    }
   ],
   "source": [
    "len(df_base)"
   ]
  },
  {
   "cell_type": "code",
   "execution_count": 106,
   "metadata": {},
   "outputs": [
    {
     "data": {
      "text/plain": [
       "AZ    10219\n",
       "NV     6882\n",
       "OH     4513\n",
       "NC     3625\n",
       "PA     3435\n",
       "WI     1486\n",
       "IL      598\n",
       "SC      201\n",
       "Name: state, dtype: int64"
      ]
     },
     "execution_count": 106,
     "metadata": {},
     "output_type": "execute_result"
    }
   ],
   "source": [
    "df_base[\"state\"].value_counts()"
   ]
  },
  {
   "cell_type": "code",
   "execution_count": 107,
   "metadata": {},
   "outputs": [
    {
     "name": "stdout",
     "output_type": "stream",
     "text": [
      "  state             business_id                           name  postal_code  \\\n",
      "0    AZ  -YR7K3rw6VAQ1-MjslvsoQ         Eastwind Sushi & Grill      85032.0   \n",
      "1    AZ  -ouvCdkuZJgHixwyAhB8Nw            Pete's Fish & Chips      85040.0   \n",
      "2    AZ  MUL6OwocXH5LLU3qcJyTvA                     Wok N Roll      85143.0   \n",
      "3    AZ  kWkW6vVePpBox_fKfGgPjQ  Pan Asia Sushi Chinese Fusion      85042.0   \n",
      "4    AZ  DF6kMTHYuKKME_00AinR-w        Even Stevens Sandwiches      85281.0   \n",
      "5    AZ  nJNukcrwL5CmCXviiJvcBw       Jimbo's Good Times Grill      85205.0   \n",
      "6    AZ  I_a74zmgR-X03LsKISWPcg               Snoh Ice Shavery      85014.0   \n",
      "7    AZ  PgW75NwQUJ1wNOapwZ1bnw      La Victoria Mexican Grill      85225.0   \n",
      "8    AZ  JMQDqoJHyCCguklrhPQEPw           Xaviers Casa Reynoso      85206.0   \n",
      "9    AZ  pYZnKIv0z-UxrpgBjp_z1w           Kokobelli Bagel Cafe      85206.0   \n",
      "\n",
      "    latitude   longitude  \n",
      "0  33.610821 -111.977497  \n",
      "1  33.410808 -112.073620  \n",
      "2  33.137277 -111.539195  \n",
      "3  33.377114 -112.027889  \n",
      "4  33.417466 -111.925889  \n",
      "5  33.415704 -111.699567  \n",
      "6  33.509529 -112.060958  \n",
      "7  33.305807 -111.828714  \n",
      "8  33.394340 -111.721003  \n",
      "9  33.394607 -111.683508  \n",
      "      state             business_id                    name  postal_code  \\\n",
      "30949    WI  TLTawnc8rVosRV9z5-8oOw  Charley's Grilled Subs      53703.0   \n",
      "30950    WI  oXk1MzdecCd7UfEuaHGONQ                Culver's      53597.0   \n",
      "30951    WI  lq58IcwmMODhqyhC1EDMRQ            La Tolteca 3      53590.0   \n",
      "30952    WI  kqrhy8kaxvqqbsGpVKRyAg              Discofries      53703.0   \n",
      "30953    WI  IfKJC-1YOcDjpP2Toy0NTg                  Mooyah      53719.0   \n",
      "30954    WI  hEUAUdG4fBdYWvPeEASnng             Viet Bistro      53715.0   \n",
      "30955    WI  mCtkHCPp7OFZtqO4Fzlp1A             Badger Bowl      53713.0   \n",
      "30956    WI  lYbyy6TTmpk_mlYuYAWkDg             Ground Zero      53703.0   \n",
      "30957    WI  gtHH0BgHFSXc-Z1seIWJ1g             Dairy Queen      53717.0   \n",
      "30958    WI  4FdXVA-WxWwc5rmjRPJVnQ              McDonald's      53704.0   \n",
      "\n",
      "        latitude  longitude  \n",
      "30949  43.074897 -89.395982  \n",
      "30950  43.191314 -89.436327  \n",
      "30951  43.110700 -89.642439  \n",
      "30952  43.074871 -89.396209  \n",
      "30953  43.014889 -89.481099  \n",
      "30954  43.067622 -89.395441  \n",
      "30955  43.038813 -89.377140  \n",
      "30956  43.078270 -89.372077  \n",
      "30957  43.061257 -89.519080  \n",
      "30958  43.128766 -89.308580  \n"
     ]
    }
   ],
   "source": [
    "# For managing performance, we will first sort the dataframe according to states\n",
    "\n",
    "df_base=df_base.sort_values(\"state\")\n",
    "\n",
    "df_base.reset_index(inplace=True,drop=True)\n",
    "df = df_base.copy()\n",
    "print(df.head(10))\n",
    "print(df.tail(10))"
   ]
  },
  {
   "cell_type": "code",
   "execution_count": 108,
   "metadata": {},
   "outputs": [
    {
     "name": "stdout",
     "output_type": "stream",
     "text": [
      "start time: 1521399783.6302955\n",
      "AZ\n",
      "no of recs: 10219\n",
      "0 10219\n"
     ]
    },
    {
     "name": "stderr",
     "output_type": "stream",
     "text": [
      "C:\\Users\\stephielsw\\Anaconda2\\envs\\py36\\lib\\site-packages\\ipykernel_launcher.py:45: SettingWithCopyWarning: \n",
      "A value is trying to be set on a copy of a slice from a DataFrame.\n",
      "Try using .loc[row_indexer,col_indexer] = value instead\n",
      "\n",
      "See the caveats in the documentation: http://pandas.pydata.org/pandas-docs/stable/indexing.html#indexing-view-versus-copy\n"
     ]
    },
    {
     "name": "stdout",
     "output_type": "stream",
     "text": [
      "end time: 1521402699.792826\n",
      "start time: 1521402699.792826\n",
      "IL\n",
      "no of recs: 598\n",
      "10219 10817\n",
      "end time: 1521402714.4671896\n",
      "start time: 1521402714.4671896\n",
      "NC\n",
      "no of recs: 3625\n",
      "10817 14442\n",
      "end time: 1521403102.231036\n",
      "start time: 1521403102.231036\n",
      "NV\n",
      "no of recs: 6882\n",
      "14442 21324\n",
      "end time: 1521404440.6315107\n",
      "start time: 1521404440.632514\n",
      "OH\n",
      "no of recs: 4513\n",
      "21324 25837\n",
      "end time: 1521405027.7950068\n",
      "start time: 1521405027.796008\n",
      "PA\n",
      "no of recs: 3435\n",
      "25837 29272\n",
      "end time: 1521405374.4559743\n",
      "start time: 1521405374.4559743\n",
      "SC\n",
      "no of recs: 201\n",
      "29272 29473\n",
      "end time: 1521405377.3849294\n",
      "start time: 1521405377.3849294\n",
      "WI\n",
      "no of recs: 1486\n",
      "29473 30959\n",
      "end time: 1521405448.975719\n"
     ]
    }
   ],
   "source": [
    "#Get the no. of nearby restaurants within 1km for each restaurant\n",
    "\n",
    "# The function distance calculates the distance between 2 sets of coordinates and return 1 if the distance is within 1km.\n",
    "def distance(lat1, lon1,lat2, lon2):\n",
    "    p = 0.017453292519943295\n",
    "    a = 0.5 - cos((lat2-lat1)*p)/2 + cos(lat1*p)*cos(lat2*p) * (1-cos((lon2-lon1)*p)) / 2\n",
    "    distance = 12742 * asin(sqrt(a))\n",
    "   \n",
    "    if distance > 1 or distance == 0:\n",
    "        return 0\n",
    "    else:\n",
    "        return 1    \n",
    "\n",
    "# The function closest will pass the base coordinates and the list of coordinates to be iterated through to function distance and sum up the results returned.\n",
    "def closest(df_curr):\n",
    "    lat_list =list(df[df[\"state\"]==df_curr[\"state\"]][\"latitude\"])\n",
    "    lon_list =list(df[df[\"state\"]==df_curr[\"state\"]][\"longitude\"])\n",
    "\n",
    "    f = sum(distance(lat_list[i], lon_list[i], df_curr['latitude'],df_curr['longitude']) for i in range(len(lat_list)))   \n",
    "    return f\n",
    "\n",
    "# This workaround is based on the assumption that any restaurants within 1km away is within the same state and is implemented for performance purposes. \n",
    "# This workaround will ensure that only restaurants within the same state is iterated for distance check.\n",
    "unique_states =df[\"state\"].unique()\n",
    "df[\"num_nearby_rest\"]=0\n",
    "\n",
    "start_index=0\n",
    "end_index=0\n",
    "\n",
    "for i in unique_states:\n",
    "    t=0\n",
    "    print(\"start time:\", time.time())\n",
    "    print(i)\n",
    "    l = len(df[df[\"state\"]==i])\n",
    "    print(\"no of recs:\", l)\n",
    "    start_index = end_index\n",
    "    end_index= end_index + l\n",
    "    print(start_index, end_index)\n",
    "    \n",
    "    df.iloc[start_index:end_index][\"num_nearby_rest\"] = df.iloc[start_index:end_index].apply(closest,axis=1)\n",
    "    print(\"end time:\",time.time())"
   ]
  },
  {
   "cell_type": "code",
   "execution_count": 110,
   "metadata": {},
   "outputs": [
    {
     "data": {
      "text/plain": [
       "<matplotlib.axes._subplots.AxesSubplot at 0x21bf41cc780>"
      ]
     },
     "execution_count": 110,
     "metadata": {},
     "output_type": "execute_result"
    },
    {
     "data": {
      "image/png": "[encoded data removed]",
      "text/plain": [
       "<matplotlib.figure.Figure at 0x21bf41cceb8>"
      ]
     },
     "metadata": {},
     "output_type": "display_data"
    }
   ],
   "source": [
    "sns.distplot(df[\"num_nearby_rest\"])"
   ]
  },
  {
   "cell_type": "code",
   "execution_count": 116,
   "metadata": {},
   "outputs": [],
   "source": [
    "# Output results to nearbyrestaurant.csv\n",
    "\n",
    "import csv\n",
    "with open('nearbyrestaurant.csv', 'w', encoding=\"utf-8\", newline= \"\") as csvfile:\n",
    "    writer = csv.writer(csvfile, delimiter=',')\n",
    "    writer.writerow([\"state\",\"business_id\",\"latitude\",\"name\", \"postal_code\", \"longitude\", \"num_nearby_rest\"])\n",
    "    for i in range(len(df)):\n",
    "        writer.writerow(df.iloc[i])"
   ]
  },
  {
   "cell_type": "code",
   "execution_count": null,
   "metadata": {},
   "outputs": [],
   "source": []
  }
 ],
 "metadata": {
  "kernelspec": {
   "display_name": "Python 3",
   "language": "python",
   "name": "python3"
  },
  "language_info": {
   "codemirror_mode": {
    "name": "ipython",
    "version": 3
   },
   "file_extension": ".py",
   "mimetype": "text/x-python",
   "name": "python",
   "nbconvert_exporter": "python",
   "pygments_lexer": "ipython3",
   "version": "3.6.4"
  }
 },
 "nbformat": 4,
 "nbformat_minor": 2
}
